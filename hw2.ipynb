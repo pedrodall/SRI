{
 "cells": [
  {
   "cell_type": "code",
   "execution_count": 1,
   "metadata": {},
   "outputs": [
    {
     "name": "stdout",
     "output_type": "stream",
     "text": [
      "Populating the interactive namespace from numpy and matplotlib\n"
     ]
    }
   ],
   "source": [
    "from nltk.corpus import machado\n",
    "from nltk.tokenize import WordPunctTokenizer\n",
    "from nltk.corpus import stopwords\n",
    "import string\n",
    "\n",
    "from collections import defaultdict\n",
    "from nltk.stem.snowball import PortugueseStemmer\n",
    "import nltk\n",
    "%pylab inline"
   ]
  },
  {
   "cell_type": "markdown",
   "metadata": {},
   "source": [
    "### vamos importar os textos"
   ]
  },
  {
   "cell_type": "code",
   "execution_count": 2,
   "metadata": {},
   "outputs": [],
   "source": [
    "textos = [machado.raw(id) for id in machado.fileids()]\n",
    "tok_textos = [WordPunctTokenizer().tokenize(t.lower()) for t in textos]\n",
    "T = nltk.TextCollection(tok_textos)"
   ]
  },
  {
   "cell_type": "code",
   "execution_count": 3,
   "metadata": {},
   "outputs": [],
   "source": [
    "q = \"juiz medo homem\"\n",
    "qt = WordPunctTokenizer().tokenize(q.lower())"
   ]
  },
  {
   "cell_type": "markdown",
   "metadata": {},
   "source": [
    "# Exercício 1: Similaridade por Cosseno."
   ]
  },
  {
   "cell_type": "markdown",
   "metadata": {},
   "source": [
    "vamos criar uma matriz pra cada tipo de vetorização."
   ]
  },
  {
   "cell_type": "code",
   "execution_count": 5,
   "metadata": {},
   "outputs": [],
   "source": [
    "tfidf_matrix = np.zeros((len(tok_textos),len(qt)))\n",
    "tf_matrix = np.zeros((len(tok_textos),len(qt)))\n",
    "bi_matrix = np.zeros((len(tok_textos),len(qt)))"
   ]
  },
  {
   "cell_type": "code",
   "execution_count": 6,
   "metadata": {},
   "outputs": [],
   "source": [
    "for j,w in enumerate(qt):\n",
    "    for i, d in enumerate(tok_textos):\n",
    "        tfidf_matrix[i,j] = T.tf_idf(w,d)\n",
    "        tf_matrix[i,j] = T.tf(w,d)\n",
    "        if tf_matrix[i,j] > 0:\n",
    "            bi_matrix[i,j] = 1"
   ]
  },
  {
   "cell_type": "markdown",
   "metadata": {},
   "source": [
    "agora vamos normalizar nossas matrizes dividindo elas pela norma L2"
   ]
  },
  {
   "cell_type": "code",
   "execution_count": 7,
   "metadata": {},
   "outputs": [],
   "source": [
    "from numpy.linalg import norm\n",
    "MN_tfidf = np.array([r/norm(r) if norm(r) !=0 else np.zeros(len(r)) for r in tfidf_matrix])\n",
    "MN_tf = np.array([r/norm(r) if norm(r) !=0 else np.zeros(len(r)) for r in tf_matrix])\n",
    "MN_bi = np.array([r/norm(r) if norm(r) !=0 else np.zeros(len(r)) for r in bi_matrix])\n",
    "def ordem(q,MN):\n",
    "    return [np.dot(q,r) for r in MN]"
   ]
  },
  {
   "cell_type": "code",
   "execution_count": 15,
   "metadata": {},
   "outputs": [],
   "source": [
    "qv_tfidf = np.array([T.tf_idf(w,qt) for w in qt])\n",
    "qv_tfidf /= norm(qv_tfidf)\n",
    "r_tfidf = ordem(qv_tfidf,MN_tfidf)\n",
    "\n",
    "qv_tf = np.array([T.tf(w,qt) for w in qt])\n",
    "qv_tf /= norm(qv_tf)\n",
    "r_tf = ordem(qv_tf,MN_tf)\n",
    "\n",
    "qv_bi = np.ones(len(qt))\n",
    "qv_bi /= norm(qv_bi)\n",
    "r_bi = ordem(qv_bi,MN_bi)"
   ]
  },
  {
   "cell_type": "code",
   "execution_count": 16,
   "metadata": {},
   "outputs": [],
   "source": [
    "vbi = filter(lambda x : x[0]!=0.0, zip(r_bi,range(len(tok_textos))))\n",
    "vtf = filter(lambda x : x[0]!=0.0, zip(r_tf,range(len(tok_textos))))\n",
    "vtfidf = filter(lambda x : x[0]!=0.0, zip(r_tfidf,range(len(tok_textos))))"
   ]
  },
  {
   "cell_type": "code",
   "execution_count": 18,
   "metadata": {},
   "outputs": [],
   "source": [
    "resposta_bi = sorted(vbi, reverse=True)\n",
    "resposta_tf = sorted(vtf, reverse=True)\n",
    "resposta_tfidf = sorted(vtfidf, reverse=True) "
   ]
  },
  {
   "cell_type": "code",
   "execution_count": 21,
   "metadata": {},
   "outputs": [
    {
     "data": {
      "text/plain": [
       "[(1.0000000000000002, 245),\n",
       " (1.0000000000000002, 244),\n",
       " (1.0000000000000002, 243),\n",
       " (1.0000000000000002, 235),\n",
       " (1.0000000000000002, 232),\n",
       " (1.0000000000000002, 231),\n",
       " (1.0000000000000002, 229),\n",
       " (1.0000000000000002, 227),\n",
       " (1.0000000000000002, 226),\n",
       " (1.0000000000000002, 225),\n",
       " (1.0000000000000002, 223),\n",
       " (1.0000000000000002, 221),\n",
       " (1.0000000000000002, 219),\n",
       " (1.0000000000000002, 217),\n",
       " (1.0000000000000002, 193),\n",
       " (1.0000000000000002, 191),\n",
       " (1.0000000000000002, 190),\n",
       " (1.0000000000000002, 188),\n",
       " (1.0000000000000002, 185),\n",
       " (1.0000000000000002, 183),\n",
       " (1.0000000000000002, 182),\n",
       " (1.0000000000000002, 138),\n",
       " (1.0000000000000002, 118),\n",
       " (1.0000000000000002, 69),\n",
       " (1.0000000000000002, 51),\n",
       " (1.0000000000000002, 45),\n",
       " (1.0000000000000002, 9),\n",
       " (1.0000000000000002, 6),\n",
       " (1.0000000000000002, 4),\n",
       " (1.0000000000000002, 3),\n",
       " (1.0000000000000002, 2),\n",
       " (1.0000000000000002, 1),\n",
       " (1.0000000000000002, 0),\n",
       " (0.816496580927726, 241),\n",
       " (0.816496580927726, 240),\n",
       " (0.816496580927726, 238),\n",
       " (0.816496580927726, 237),\n",
       " (0.816496580927726, 234),\n",
       " (0.816496580927726, 233),\n",
       " (0.816496580927726, 230),\n",
       " (0.816496580927726, 228),\n",
       " (0.816496580927726, 224),\n",
       " (0.816496580927726, 222),\n",
       " (0.816496580927726, 220),\n",
       " (0.816496580927726, 218),\n",
       " (0.816496580927726, 216),\n",
       " (0.816496580927726, 213),\n",
       " (0.816496580927726, 207),\n",
       " (0.816496580927726, 202),\n",
       " (0.816496580927726, 192),\n",
       " (0.816496580927726, 187),\n",
       " (0.816496580927726, 184),\n",
       " (0.816496580927726, 165),\n",
       " (0.816496580927726, 163),\n",
       " (0.816496580927726, 160),\n",
       " (0.816496580927726, 151),\n",
       " (0.816496580927726, 148),\n",
       " (0.816496580927726, 145),\n",
       " (0.816496580927726, 140),\n",
       " (0.816496580927726, 136),\n",
       " (0.816496580927726, 135),\n",
       " (0.816496580927726, 131),\n",
       " (0.816496580927726, 128),\n",
       " (0.816496580927726, 126),\n",
       " (0.816496580927726, 124),\n",
       " (0.816496580927726, 123),\n",
       " (0.816496580927726, 122),\n",
       " (0.816496580927726, 113),\n",
       " (0.816496580927726, 112),\n",
       " (0.816496580927726, 109),\n",
       " (0.816496580927726, 108),\n",
       " (0.816496580927726, 105),\n",
       " (0.816496580927726, 100),\n",
       " (0.816496580927726, 98),\n",
       " (0.816496580927726, 96),\n",
       " (0.816496580927726, 95),\n",
       " (0.816496580927726, 94),\n",
       " (0.816496580927726, 92),\n",
       " (0.816496580927726, 88),\n",
       " (0.816496580927726, 87),\n",
       " (0.816496580927726, 85),\n",
       " (0.816496580927726, 83),\n",
       " (0.816496580927726, 82),\n",
       " (0.816496580927726, 81),\n",
       " (0.816496580927726, 80),\n",
       " (0.816496580927726, 76),\n",
       " (0.816496580927726, 75),\n",
       " (0.816496580927726, 74),\n",
       " (0.816496580927726, 71),\n",
       " (0.816496580927726, 70),\n",
       " (0.816496580927726, 68),\n",
       " (0.816496580927726, 67),\n",
       " (0.816496580927726, 66),\n",
       " (0.816496580927726, 65),\n",
       " (0.816496580927726, 64),\n",
       " (0.816496580927726, 63),\n",
       " (0.816496580927726, 61),\n",
       " (0.816496580927726, 57),\n",
       " (0.816496580927726, 55),\n",
       " (0.816496580927726, 52),\n",
       " (0.816496580927726, 50),\n",
       " (0.816496580927726, 49),\n",
       " (0.816496580927726, 48),\n",
       " (0.816496580927726, 46),\n",
       " (0.816496580927726, 44),\n",
       " (0.816496580927726, 42),\n",
       " (0.816496580927726, 41),\n",
       " (0.816496580927726, 40),\n",
       " (0.816496580927726, 39),\n",
       " (0.816496580927726, 37),\n",
       " (0.816496580927726, 36),\n",
       " (0.816496580927726, 35),\n",
       " (0.816496580927726, 34),\n",
       " (0.816496580927726, 33),\n",
       " (0.816496580927726, 32),\n",
       " (0.816496580927726, 30),\n",
       " (0.816496580927726, 29),\n",
       " (0.816496580927726, 28),\n",
       " (0.816496580927726, 27),\n",
       " (0.816496580927726, 23),\n",
       " (0.816496580927726, 22),\n",
       " (0.816496580927726, 21),\n",
       " (0.816496580927726, 19),\n",
       " (0.816496580927726, 14),\n",
       " (0.816496580927726, 11),\n",
       " (0.816496580927726, 10),\n",
       " (0.816496580927726, 8),\n",
       " (0.816496580927726, 5),\n",
       " (0.5773502691896258, 242),\n",
       " (0.5773502691896258, 239),\n",
       " (0.5773502691896258, 236),\n",
       " (0.5773502691896258, 215),\n",
       " (0.5773502691896258, 211),\n",
       " (0.5773502691896258, 210),\n",
       " (0.5773502691896258, 206),\n",
       " (0.5773502691896258, 205),\n",
       " (0.5773502691896258, 204),\n",
       " (0.5773502691896258, 203),\n",
       " (0.5773502691896258, 201),\n",
       " (0.5773502691896258, 200),\n",
       " (0.5773502691896258, 198),\n",
       " (0.5773502691896258, 196),\n",
       " (0.5773502691896258, 195),\n",
       " (0.5773502691896258, 194),\n",
       " (0.5773502691896258, 189),\n",
       " (0.5773502691896258, 186),\n",
       " (0.5773502691896258, 181),\n",
       " (0.5773502691896258, 180),\n",
       " (0.5773502691896258, 179),\n",
       " (0.5773502691896258, 178),\n",
       " (0.5773502691896258, 177),\n",
       " (0.5773502691896258, 176),\n",
       " (0.5773502691896258, 175),\n",
       " (0.5773502691896258, 174),\n",
       " (0.5773502691896258, 173),\n",
       " (0.5773502691896258, 172),\n",
       " (0.5773502691896258, 171),\n",
       " (0.5773502691896258, 169),\n",
       " (0.5773502691896258, 166),\n",
       " (0.5773502691896258, 164),\n",
       " (0.5773502691896258, 161),\n",
       " (0.5773502691896258, 158),\n",
       " (0.5773502691896258, 157),\n",
       " (0.5773502691896258, 156),\n",
       " (0.5773502691896258, 155),\n",
       " (0.5773502691896258, 154),\n",
       " (0.5773502691896258, 153),\n",
       " (0.5773502691896258, 149),\n",
       " (0.5773502691896258, 147),\n",
       " (0.5773502691896258, 146),\n",
       " (0.5773502691896258, 144),\n",
       " (0.5773502691896258, 143),\n",
       " (0.5773502691896258, 139),\n",
       " (0.5773502691896258, 137),\n",
       " (0.5773502691896258, 134),\n",
       " (0.5773502691896258, 133),\n",
       " (0.5773502691896258, 130),\n",
       " (0.5773502691896258, 129),\n",
       " (0.5773502691896258, 127),\n",
       " (0.5773502691896258, 125),\n",
       " (0.5773502691896258, 121),\n",
       " (0.5773502691896258, 120),\n",
       " (0.5773502691896258, 117),\n",
       " (0.5773502691896258, 116),\n",
       " (0.5773502691896258, 115),\n",
       " (0.5773502691896258, 114),\n",
       " (0.5773502691896258, 111),\n",
       " (0.5773502691896258, 110),\n",
       " (0.5773502691896258, 107),\n",
       " (0.5773502691896258, 103),\n",
       " (0.5773502691896258, 102),\n",
       " (0.5773502691896258, 97),\n",
       " (0.5773502691896258, 93),\n",
       " (0.5773502691896258, 90),\n",
       " (0.5773502691896258, 89),\n",
       " (0.5773502691896258, 86),\n",
       " (0.5773502691896258, 84),\n",
       " (0.5773502691896258, 79),\n",
       " (0.5773502691896258, 78),\n",
       " (0.5773502691896258, 77),\n",
       " (0.5773502691896258, 73),\n",
       " (0.5773502691896258, 72),\n",
       " (0.5773502691896258, 62),\n",
       " (0.5773502691896258, 60),\n",
       " (0.5773502691896258, 59),\n",
       " (0.5773502691896258, 58),\n",
       " (0.5773502691896258, 54),\n",
       " (0.5773502691896258, 53),\n",
       " (0.5773502691896258, 47),\n",
       " (0.5773502691896258, 43),\n",
       " (0.5773502691896258, 38),\n",
       " (0.5773502691896258, 31),\n",
       " (0.5773502691896258, 26),\n",
       " (0.5773502691896258, 25),\n",
       " (0.5773502691896258, 24),\n",
       " (0.5773502691896258, 20),\n",
       " (0.5773502691896258, 17),\n",
       " (0.5773502691896258, 16),\n",
       " (0.5773502691896258, 15),\n",
       " (0.5773502691896258, 13),\n",
       " (0.5773502691896258, 12),\n",
       " (0.5773502691896258, 7)]"
      ]
     },
     "execution_count": 21,
     "metadata": {},
     "output_type": "execute_result"
    }
   ],
   "source": [
    "resposta_bi"
   ]
  },
  {
   "cell_type": "code",
   "execution_count": 22,
   "metadata": {},
   "outputs": [
    {
     "data": {
      "text/plain": [
       "[(1.0, 138),\n",
       " (0.9428090415820635, 118),\n",
       " (0.881917103688197, 9),\n",
       " (0.8819171036881968, 221),\n",
       " (0.8798826901281197, 217),\n",
       " (0.8673359443511277, 245),\n",
       " (0.8318837370406581, 4),\n",
       " (0.8268106308031118, 243),\n",
       " (0.8164965809277261, 234),\n",
       " (0.816496580927726, 241),\n",
       " (0.816496580927726, 160),\n",
       " (0.816496580927726, 108),\n",
       " (0.816496580927726, 80),\n",
       " (0.8164965809277259, 136),\n",
       " (0.8164965809277259, 109),\n",
       " (0.8164965809277259, 37),\n",
       " (0.808290376865476, 148),\n",
       " (0.8065050839582169, 65),\n",
       " (0.8006407690254357, 52),\n",
       " (0.8006407690254356, 240),\n",
       " (0.8006407690254356, 163),\n",
       " (0.7978611601063543, 228),\n",
       " (0.7978611601063542, 57),\n",
       " (0.787726361443376, 98),\n",
       " (0.7770286898858112, 219),\n",
       " (0.7745966692414834, 213),\n",
       " (0.7745966692414834, 124),\n",
       " (0.7745966692414834, 83),\n",
       " (0.7745966692414834, 21),\n",
       " (0.7745966692414833, 100),\n",
       " (0.7745966692414833, 95),\n",
       " (0.7745966692414833, 92),\n",
       " (0.7745966692414833, 76),\n",
       " (0.7745966692414833, 36),\n",
       " (0.7745966692414833, 34),\n",
       " (0.7504787743864563, 113),\n",
       " (0.7504787743864563, 71),\n",
       " (0.7504787743864563, 63),\n",
       " (0.7388265436854142, 6),\n",
       " (0.7378988555115864, 218),\n",
       " (0.7351857748265641, 230),\n",
       " (0.734846108601489, 231),\n",
       " (0.7302967433402214, 126),\n",
       " (0.7302967433402214, 81),\n",
       " (0.7302967433402214, 55),\n",
       " (0.7302967433402214, 27),\n",
       " (0.7302967433402213, 135),\n",
       " (0.7302967433402213, 128),\n",
       " (0.7259555224017391, 2),\n",
       " (0.7240661880382165, 183),\n",
       " (0.7223905023263925, 1),\n",
       " (0.7215153008421024, 232),\n",
       " (0.7173463349694127, 223),\n",
       " (0.7137464271463297, 123),\n",
       " (0.7137464271463296, 87),\n",
       " (0.7137464271463296, 23),\n",
       " (0.7137464271463296, 14),\n",
       " (0.7137464271463296, 8),\n",
       " (0.709475654760603, 235),\n",
       " (0.709475654760603, 45),\n",
       " (0.7001400420140048, 112),\n",
       " (0.7001400420140048, 70),\n",
       " (0.7001400420140048, 11),\n",
       " (0.7001400420140048, 10),\n",
       " (0.6970966755769256, 69),\n",
       " (0.6952876281805284, 227),\n",
       " (0.6919214091104552, 191),\n",
       " (0.6897007348075542, 3),\n",
       " (0.6888467201936644, 151),\n",
       " (0.6793662204867574, 237),\n",
       " (0.6793662204867574, 105),\n",
       " (0.6793662204867574, 96),\n",
       " (0.6793662204867574, 61),\n",
       " (0.6793662204867573, 233),\n",
       " (0.6793662204867573, 131),\n",
       " (0.6793662204867573, 82),\n",
       " (0.6793662204867573, 75),\n",
       " (0.6793662204867573, 66),\n",
       " (0.6790046053972699, 51),\n",
       " (0.6738605570253132, 222),\n",
       " (0.671317113342619, 216),\n",
       " (0.6713171133426188, 145),\n",
       " (0.6713171133426188, 44),\n",
       " (0.6686053391952476, 225),\n",
       " (0.6644105970267493, 19),\n",
       " (0.6644105970267492, 122),\n",
       " (0.6644105970267492, 85),\n",
       " (0.6644105970267492, 64),\n",
       " (0.6644105970267492, 49),\n",
       " (0.664162734024796, 229),\n",
       " (0.6612961042471832, 226),\n",
       " (0.6531972647421808, 74),\n",
       " (0.6531972647421808, 67),\n",
       " (0.6531972647421808, 46),\n",
       " (0.6531972647421808, 42),\n",
       " (0.6531972647421808, 40),\n",
       " (0.6514414154534451, 185),\n",
       " (0.6485863139490892, 0),\n",
       " (0.6468075245376153, 244),\n",
       " (0.6445033866354896, 165),\n",
       " (0.6445033866354896, 30),\n",
       " (0.641367087553823, 193),\n",
       " (0.6395294793910793, 182),\n",
       " (0.6375767130633382, 94),\n",
       " (0.6375767130633382, 48),\n",
       " (0.6375767130633382, 33),\n",
       " (0.6319334885835687, 184),\n",
       " (0.6319334885835687, 50),\n",
       " (0.6319334885835687, 22),\n",
       " (0.6319334885835686, 88),\n",
       " (0.6294876342295692, 140),\n",
       " (0.6272500481871801, 28),\n",
       " (0.6263716900023574, 190),\n",
       " (0.6242298625893465, 192),\n",
       " (0.6233022919309994, 207),\n",
       " (0.6233022919309994, 187),\n",
       " (0.6233022919309994, 29),\n",
       " (0.6170175523422953, 238),\n",
       " (0.6170175523422953, 220),\n",
       " (0.6144762981140548, 202),\n",
       " (0.6122400451557768, 68),\n",
       " (0.608486984459331, 35),\n",
       " (0.608486984459331, 32),\n",
       " (0.6054614282901366, 39),\n",
       " (0.6054614282901366, 5),\n",
       " (0.6027127186972204, 188),\n",
       " (0.5975889277248017, 41),\n",
       " (0.5890102811463838, 224),\n",
       " (0.5773502691896257, 242),\n",
       " (0.5773502691896257, 239),\n",
       " (0.5773502691896257, 236),\n",
       " (0.5773502691896257, 215),\n",
       " (0.5773502691896257, 211),\n",
       " (0.5773502691896257, 210),\n",
       " (0.5773502691896257, 206),\n",
       " (0.5773502691896257, 205),\n",
       " (0.5773502691896257, 204),\n",
       " (0.5773502691896257, 203),\n",
       " (0.5773502691896257, 201),\n",
       " (0.5773502691896257, 200),\n",
       " (0.5773502691896257, 198),\n",
       " (0.5773502691896257, 196),\n",
       " (0.5773502691896257, 195),\n",
       " (0.5773502691896257, 194),\n",
       " (0.5773502691896257, 189),\n",
       " (0.5773502691896257, 186),\n",
       " (0.5773502691896257, 181),\n",
       " (0.5773502691896257, 180),\n",
       " (0.5773502691896257, 179),\n",
       " (0.5773502691896257, 178),\n",
       " (0.5773502691896257, 177),\n",
       " (0.5773502691896257, 176),\n",
       " (0.5773502691896257, 175),\n",
       " (0.5773502691896257, 174),\n",
       " (0.5773502691896257, 173),\n",
       " (0.5773502691896257, 172),\n",
       " (0.5773502691896257, 171),\n",
       " (0.5773502691896257, 169),\n",
       " (0.5773502691896257, 166),\n",
       " (0.5773502691896257, 164),\n",
       " (0.5773502691896257, 161),\n",
       " (0.5773502691896257, 158),\n",
       " (0.5773502691896257, 157),\n",
       " (0.5773502691896257, 156),\n",
       " (0.5773502691896257, 155),\n",
       " (0.5773502691896257, 154),\n",
       " (0.5773502691896257, 153),\n",
       " (0.5773502691896257, 149),\n",
       " (0.5773502691896257, 147),\n",
       " (0.5773502691896257, 146),\n",
       " (0.5773502691896257, 144),\n",
       " (0.5773502691896257, 143),\n",
       " (0.5773502691896257, 139),\n",
       " (0.5773502691896257, 137),\n",
       " (0.5773502691896257, 134),\n",
       " (0.5773502691896257, 133),\n",
       " (0.5773502691896257, 130),\n",
       " (0.5773502691896257, 129),\n",
       " (0.5773502691896257, 127),\n",
       " (0.5773502691896257, 125),\n",
       " (0.5773502691896257, 121),\n",
       " (0.5773502691896257, 120),\n",
       " (0.5773502691896257, 117),\n",
       " (0.5773502691896257, 116),\n",
       " (0.5773502691896257, 115),\n",
       " (0.5773502691896257, 114),\n",
       " (0.5773502691896257, 111),\n",
       " (0.5773502691896257, 110),\n",
       " (0.5773502691896257, 107),\n",
       " (0.5773502691896257, 103),\n",
       " (0.5773502691896257, 102),\n",
       " (0.5773502691896257, 97),\n",
       " (0.5773502691896257, 93),\n",
       " (0.5773502691896257, 90),\n",
       " (0.5773502691896257, 89),\n",
       " (0.5773502691896257, 86),\n",
       " (0.5773502691896257, 84),\n",
       " (0.5773502691896257, 79),\n",
       " (0.5773502691896257, 78),\n",
       " (0.5773502691896257, 77),\n",
       " (0.5773502691896257, 73),\n",
       " (0.5773502691896257, 72),\n",
       " (0.5773502691896257, 62),\n",
       " (0.5773502691896257, 60),\n",
       " (0.5773502691896257, 59),\n",
       " (0.5773502691896257, 58),\n",
       " (0.5773502691896257, 54),\n",
       " (0.5773502691896257, 53),\n",
       " (0.5773502691896257, 47),\n",
       " (0.5773502691896257, 43),\n",
       " (0.5773502691896257, 38),\n",
       " (0.5773502691896257, 31),\n",
       " (0.5773502691896257, 26),\n",
       " (0.5773502691896257, 25),\n",
       " (0.5773502691896257, 24),\n",
       " (0.5773502691896257, 20),\n",
       " (0.5773502691896257, 17),\n",
       " (0.5773502691896257, 16),\n",
       " (0.5773502691896257, 15),\n",
       " (0.5773502691896257, 13),\n",
       " (0.5773502691896257, 12),\n",
       " (0.5773502691896257, 7)]"
      ]
     },
     "execution_count": 22,
     "metadata": {},
     "output_type": "execute_result"
    }
   ],
   "source": [
    "resposta_tf"
   ]
  },
  {
   "cell_type": "code",
   "execution_count": 23,
   "metadata": {},
   "outputs": [
    {
     "data": {
      "text/plain": [
       "[(0.9999999999999999, 138),\n",
       " (0.9973720035920748, 118),\n",
       " (0.9715691075334945, 9),\n",
       " (0.9374358969361772, 221),\n",
       " (0.9128287346390687, 232),\n",
       " (0.9080464465568062, 235),\n",
       " (0.9080464465568062, 45),\n",
       " (0.8937930238803392, 1),\n",
       " (0.8882566841080078, 160),\n",
       " (0.8879252720124841, 148),\n",
       " (0.8865921077200981, 98),\n",
       " (0.8863233132569831, 61),\n",
       " (0.8858687431894112, 94),\n",
       " (0.8853137958082364, 34),\n",
       " (0.8852331077770472, 89),\n",
       " (0.88171970392614, 113),\n",
       " (0.87680963064746, 81),\n",
       " (0.8759790031046328, 191),\n",
       " (0.8724257572834092, 69),\n",
       " (0.8706765832303939, 87),\n",
       " (0.8634244564892668, 112),\n",
       " (0.8598168987525205, 219),\n",
       " (0.8581636576802728, 51),\n",
       " (0.8551645441858555, 151),\n",
       " (0.8473150384750849, 243),\n",
       " (0.8460121757734791, 105),\n",
       " (0.8288658408881631, 245),\n",
       " (0.8254934628584267, 49),\n",
       " (0.8081383995340231, 4),\n",
       " (0.8027647882741504, 46),\n",
       " (0.8027647882741503, 67),\n",
       " (0.7907412616818688, 6),\n",
       " (0.7720008927288564, 183),\n",
       " (0.7642220599296854, 2),\n",
       " (0.7482240275803975, 217),\n",
       " (0.7302520246336711, 225),\n",
       " (0.7246238082475532, 185),\n",
       " (0.7163491030791707, 140),\n",
       " (0.660155515598885, 182),\n",
       " (0.6339723418359826, 238),\n",
       " (0.6276623377268515, 193),\n",
       " (0.6071070245160196, 0),\n",
       " (0.5722789802296799, 3),\n",
       " (0.5711602964853622, 190),\n",
       " (0.5395961823926103, 223),\n",
       " (0.5256632019907497, 227),\n",
       " (0.5205883739901567, 39),\n",
       " (0.5190241250237192, 229),\n",
       " (0.5095911013337908, 231),\n",
       " (0.47106053055297264, 226),\n",
       " (0.46514765923886003, 241),\n",
       " (0.46514765923886003, 80),\n",
       " (0.46514765923886003, 37),\n",
       " (0.46514765923886, 234),\n",
       " (0.46514765923886, 136),\n",
       " (0.46514765923886, 109),\n",
       " (0.46514765923886, 108),\n",
       " (0.4645139290552048, 163),\n",
       " (0.4643736042846579, 65),\n",
       " (0.46378258174615095, 240),\n",
       " (0.46378258174615095, 52),\n",
       " (0.4637135299743419, 36),\n",
       " (0.46371352997434184, 100),\n",
       " (0.46371352997434184, 95),\n",
       " (0.46371352997434184, 76),\n",
       " (0.46346866017384053, 228),\n",
       " (0.46346866017384053, 57),\n",
       " (0.4598857084890713, 213),\n",
       " (0.4598857084890713, 83),\n",
       " (0.4598857084890713, 21),\n",
       " (0.45988570848907123, 124),\n",
       " (0.45988570848907123, 92),\n",
       " (0.459347431839394, 143),\n",
       " (0.459347431839394, 114),\n",
       " (0.459347431839394, 73),\n",
       " (0.459347431839394, 72),\n",
       " (0.4538181506346478, 71),\n",
       " (0.4538181506346478, 63),\n",
       " (0.44930506927044006, 218),\n",
       " (0.4481775959836535, 230),\n",
       " (0.44598868218112686, 135),\n",
       " (0.44598868218112686, 128),\n",
       " (0.44598868218112686, 126),\n",
       " (0.44598868218112686, 55),\n",
       " (0.44598868218112686, 27),\n",
       " (0.43681190229451133, 123),\n",
       " (0.43681190229451133, 14),\n",
       " (0.4368119022945113, 23),\n",
       " (0.4368119022945113, 8),\n",
       " (0.42667637602173486, 11),\n",
       " (0.4266763760217348, 70),\n",
       " (0.4266763760217348, 10),\n",
       " (0.41811580114237334, 41),\n",
       " (0.41368521692229254, 244),\n",
       " (0.40484363208617524, 233),\n",
       " (0.40484363208617524, 131),\n",
       " (0.40484363208617524, 96),\n",
       " (0.40484363208617524, 75),\n",
       " (0.4048436320861752, 237),\n",
       " (0.4048436320861752, 82),\n",
       " (0.4048436320861752, 66),\n",
       " (0.39738948319666034, 222),\n",
       " (0.39366394139845146, 216),\n",
       " (0.3936639413984514, 145),\n",
       " (0.3936639413984514, 44),\n",
       " (0.3825633234745119, 64),\n",
       " (0.38256332347451183, 122),\n",
       " (0.38256332347451183, 85),\n",
       " (0.38256332347451183, 19),\n",
       " (0.361088700284827, 42),\n",
       " (0.3610887002848269, 74),\n",
       " (0.3610887002848269, 40),\n",
       " (0.3589869438298039, 188),\n",
       " (0.3410609597315652, 165),\n",
       " (0.34106095973156514, 30),\n",
       " (0.3227309257568184, 48),\n",
       " (0.3227309257568184, 33),\n",
       " (0.30612637922242253, 184),\n",
       " (0.30612637922242253, 50),\n",
       " (0.30612637922242253, 22),\n",
       " (0.3061263792224225, 88),\n",
       " (0.29116022466248365, 28),\n",
       " (0.28313413563280804, 224),\n",
       " (0.28092852659208734, 192),\n",
       " (0.2776943488354951, 29),\n",
       " (0.27769434883549504, 207),\n",
       " (0.27769434883549504, 187),\n",
       " (0.25465044098639655, 220),\n",
       " (0.24478063272699535, 202),\n",
       " (0.23583940021533534, 68),\n",
       " (0.22031202852040044, 35),\n",
       " (0.22031202852040044, 32),\n",
       " (0.20733992603077098, 5),\n",
       " (0.07322760243203282, 242),\n",
       " (0.07322760243203282, 239),\n",
       " (0.07322760243203282, 236),\n",
       " (0.07322760243203282, 215),\n",
       " (0.07322760243203282, 211),\n",
       " (0.07322760243203282, 210),\n",
       " (0.07322760243203282, 206),\n",
       " (0.07322760243203282, 205),\n",
       " (0.07322760243203282, 204),\n",
       " (0.07322760243203282, 203),\n",
       " (0.07322760243203282, 201),\n",
       " (0.07322760243203282, 200),\n",
       " (0.07322760243203282, 198),\n",
       " (0.07322760243203282, 196),\n",
       " (0.07322760243203282, 195),\n",
       " (0.07322760243203282, 194),\n",
       " (0.07322760243203282, 189),\n",
       " (0.07322760243203282, 186),\n",
       " (0.07322760243203282, 181),\n",
       " (0.07322760243203282, 180),\n",
       " (0.07322760243203282, 179),\n",
       " (0.07322760243203282, 178),\n",
       " (0.07322760243203282, 177),\n",
       " (0.07322760243203282, 176),\n",
       " (0.07322760243203282, 175),\n",
       " (0.07322760243203282, 174),\n",
       " (0.07322760243203282, 173),\n",
       " (0.07322760243203282, 172),\n",
       " (0.07322760243203282, 171),\n",
       " (0.07322760243203282, 169),\n",
       " (0.07322760243203282, 166),\n",
       " (0.07322760243203282, 164),\n",
       " (0.07322760243203282, 161),\n",
       " (0.07322760243203282, 158),\n",
       " (0.07322760243203282, 157),\n",
       " (0.07322760243203282, 156),\n",
       " (0.07322760243203282, 155),\n",
       " (0.07322760243203282, 154),\n",
       " (0.07322760243203282, 153),\n",
       " (0.07322760243203282, 149),\n",
       " (0.07322760243203282, 147),\n",
       " (0.07322760243203282, 146),\n",
       " (0.07322760243203282, 144),\n",
       " (0.07322760243203282, 139),\n",
       " (0.07322760243203282, 137),\n",
       " (0.07322760243203282, 134),\n",
       " (0.07322760243203282, 133),\n",
       " (0.07322760243203282, 130),\n",
       " (0.07322760243203282, 129),\n",
       " (0.07322760243203282, 127),\n",
       " (0.07322760243203282, 125),\n",
       " (0.07322760243203282, 121),\n",
       " (0.07322760243203282, 120),\n",
       " (0.07322760243203282, 117),\n",
       " (0.07322760243203282, 116),\n",
       " (0.07322760243203282, 115),\n",
       " (0.07322760243203282, 111),\n",
       " (0.07322760243203282, 110),\n",
       " (0.07322760243203282, 107),\n",
       " (0.07322760243203282, 103),\n",
       " (0.07322760243203282, 102),\n",
       " (0.07322760243203282, 97),\n",
       " (0.07322760243203282, 93),\n",
       " (0.07322760243203282, 90),\n",
       " (0.07322760243203282, 86),\n",
       " (0.07322760243203282, 84),\n",
       " (0.07322760243203282, 79),\n",
       " (0.07322760243203282, 78),\n",
       " (0.07322760243203282, 77),\n",
       " (0.07322760243203282, 62),\n",
       " (0.07322760243203282, 60),\n",
       " (0.07322760243203282, 59),\n",
       " (0.07322760243203282, 58),\n",
       " (0.07322760243203282, 54),\n",
       " (0.07322760243203282, 53),\n",
       " (0.07322760243203282, 47),\n",
       " (0.07322760243203282, 43),\n",
       " (0.07322760243203282, 38),\n",
       " (0.07322760243203282, 31),\n",
       " (0.07322760243203282, 26),\n",
       " (0.07322760243203282, 25),\n",
       " (0.07322760243203282, 24),\n",
       " (0.07322760243203282, 20),\n",
       " (0.07322760243203282, 17),\n",
       " (0.07322760243203282, 16),\n",
       " (0.07322760243203282, 15),\n",
       " (0.07322760243203282, 13),\n",
       " (0.07322760243203282, 12),\n",
       " (0.07322760243203282, 7)]"
      ]
     },
     "execution_count": 23,
     "metadata": {},
     "output_type": "execute_result"
    }
   ],
   "source": [
    "resposta_tfidf"
   ]
  },
  {
   "cell_type": "markdown",
   "metadata": {},
   "source": [
    "### Podemos ver que a similaridade da nossa consulta com relacão a cada um dos textos do machado são bem distintos. \n",
    "\n",
    "##### Mas isso não significa que elas se comportam totalmente diferetes. Peguemos o texto 138, por exemplo, a similaridade dele é a maxima em todas as matrizes. Assim como o texto 7 tem baixa, mas não nula, similaridade em todas as matrizes."
   ]
  },
  {
   "cell_type": "code",
   "execution_count": 143,
   "metadata": {},
   "outputs": [
    {
     "data": {
      "image/png": "[encoded data removed]",
      "text/plain": [
       "<Figure size 432x288 with 1 Axes>"
      ]
     },
     "metadata": {
      "needs_background": "light"
     },
     "output_type": "display_data"
    }
   ],
   "source": [
    "plt.hist(r_bi, bins = 20)\n",
    "plt.show()"
   ]
  },
  {
   "cell_type": "code",
   "execution_count": 144,
   "metadata": {},
   "outputs": [
    {
     "data": {
      "image/png": "[encoded data removed]",
      "text/plain": [
       "<Figure size 432x288 with 1 Axes>"
      ]
     },
     "metadata": {
      "needs_background": "light"
     },
     "output_type": "display_data"
    }
   ],
   "source": [
    "plt.hist(r_tf,bins = 20)\n",
    "plt.show()"
   ]
  },
  {
   "cell_type": "code",
   "execution_count": 145,
   "metadata": {},
   "outputs": [
    {
     "data": {
      "image/png": "[encoded data removed]",
      "text/plain": [
       "<Figure size 432x288 with 1 Axes>"
      ]
     },
     "metadata": {
      "needs_background": "light"
     },
     "output_type": "display_data"
    }
   ],
   "source": [
    "plt.hist(r_tfidf,bins = 20)\n",
    "plt.show()"
   ]
  },
  {
   "cell_type": "markdown",
   "metadata": {},
   "source": [
    "# Exercício 2: Explorando o conceito de similaridade."
   ]
  },
  {
   "cell_type": "code",
   "execution_count": 50,
   "metadata": {},
   "outputs": [],
   "source": [
    "import numpy as np\n",
    "from sklearn.feature_extraction.text import CountVectorizer\n",
    "from sklearn.preprocessing import normalize\n",
    "from sklearn.feature_extraction.text import TfidfVectorizer"
   ]
  },
  {
   "cell_type": "markdown",
   "metadata": {},
   "source": [
    "#### a ideia por é contruir uma matriz com todas as possiveis combinação de produto interno entre os vetores. Para isso basta multiplicas a matriz por sua transposta."
   ]
  },
  {
   "cell_type": "code",
   "execution_count": 31,
   "metadata": {},
   "outputs": [],
   "source": [
    "vectorizer = CountVectorizer()"
   ]
  },
  {
   "cell_type": "code",
   "execution_count": 44,
   "metadata": {},
   "outputs": [],
   "source": [
    "transformed_data = vectorizer.fit_transform(textos)\n",
    "transformed_data = normalize(transformed_data)"
   ]
  },
  {
   "cell_type": "code",
   "execution_count": 45,
   "metadata": {},
   "outputs": [],
   "source": [
    "sim = (transformed_data * transformed_data.T).A"
   ]
  },
  {
   "cell_type": "code",
   "execution_count": 146,
   "metadata": {},
   "outputs": [
    {
     "data": {
      "image/png": "[encoded data removed]",
      "text/plain": [
       "<Figure size 432x288 with 1 Axes>"
      ]
     },
     "metadata": {
      "needs_background": "light"
     },
     "output_type": "display_data"
    }
   ],
   "source": [
    "plt.hist(sim)\n",
    "plt.show()"
   ]
  },
  {
   "cell_type": "markdown",
   "metadata": {},
   "source": [
    "##### Vemos pelo histograma que a simiridade por requencia de palavras é relativamente alta. Isso não é nenhuma surpresa pois temos stopwords que são usadas em todos os textos, isso aproxima muito os documentos. Usando TFIDF devemos ter um resultado mais bem distribuido"
   ]
  },
  {
   "cell_type": "code",
   "execution_count": null,
   "metadata": {},
   "outputs": [],
   "source": []
  },
  {
   "cell_type": "markdown",
   "metadata": {},
   "source": [
    "#  Exercício 3: Usando o Gensim"
   ]
  },
  {
   "cell_type": "code",
   "execution_count": 147,
   "metadata": {},
   "outputs": [],
   "source": [
    "from gensim import corpora, models, similarities\n",
    "from nltk.corpus import stopwords\n",
    "from nltk.stem.snowball import PortugueseStemmer\n",
    "from collections import Counter\n",
    "from string import punctuation"
   ]
  },
  {
   "cell_type": "code",
   "execution_count": 148,
   "metadata": {},
   "outputs": [],
   "source": [
    "sw = stopwords.words('portuguese')+ list(punctuation)\n",
    "stemmer = PortugueseStemmer()"
   ]
  },
  {
   "cell_type": "code",
   "execution_count": 149,
   "metadata": {},
   "outputs": [],
   "source": [
    "textos_limpos = []\n",
    "c = Counter([])\n",
    "for texto in textos:\n",
    "    tlimpo = [stemmer.stem(token.strip(punctuation).lower()) for token in WordPunctTokenizer().tokenize(texto) if token.lower() not in sw]\n",
    "    c.update(tlimpo)\n",
    "    textos_limpos.append(tlimpo)\n",
    "textos_limpos = [[token for token in t if c[token]>1 and token != \"\\x97\"] for t in textos_limpos]"
   ]
  },
  {
   "cell_type": "code",
   "execution_count": 150,
   "metadata": {},
   "outputs": [
    {
     "name": "stdout",
     "output_type": "stream",
     "text": [
      "Dictionary(17948 unique tokens: ['', '10', '11', '15', '186']...)\n"
     ]
    }
   ],
   "source": [
    "dicionario = corpora.Dictionary(textos_limpos)\n",
    "dicionario.save('vocabulario.dict')\n",
    "print(dicionario)"
   ]
  },
  {
   "cell_type": "code",
   "execution_count": 151,
   "metadata": {},
   "outputs": [],
   "source": [
    "corpus = [dicionario.doc2bow(d) for d in textos_limpos]"
   ]
  },
  {
   "cell_type": "markdown",
   "metadata": {},
   "source": [
    "#  Exercício 4: Indexação Semântica Latente."
   ]
  },
  {
   "cell_type": "code",
   "execution_count": 152,
   "metadata": {},
   "outputs": [],
   "source": [
    "mod_tfidf = models.TfidfModel(corpus)\n",
    "corpus_tfidf = mod_tfidf[corpus]"
   ]
  },
  {
   "cell_type": "code",
   "execution_count": 153,
   "metadata": {},
   "outputs": [],
   "source": [
    "mod_lsi = models.LsiModel(corpus_tfidf, id2word=dicionario, num_topics=200)\n",
    "corpus_lsi = mod_lsi[corpus_tfidf]"
   ]
  },
  {
   "cell_type": "code",
   "execution_count": 155,
   "metadata": {},
   "outputs": [
    {
     "data": {
      "text/plain": [
       "[(0,\n",
       "  '0.123*\"sr\" + 0.105*\"poet\" + 0.084*\"luís\" + 0.074*\"crític\" + 0.068*\"\\x93\" + 0.068*\"vers\" + 0.066*\"dramát\" + 0.066*\"camil\" + 0.065*\"autor\" + 0.063*\"jos\"'),\n",
       " (1,\n",
       "  '0.187*\"luís\" + -0.173*\"crític\" + -0.157*\"sr\" + 0.151*\"camil\" + -0.146*\"poet\" + -0.136*\"dramát\" + -0.129*\"alenc\" + -0.110*\"poes\" + -0.104*\"autor\" + 0.097*\"henriquet\"'),\n",
       " (2,\n",
       "  '-0.391*\"luís\" + 0.284*\"henriquet\" + -0.168*\"tit\" + -0.166*\"marcelin\" + -0.153*\"daniel\" + -0.148*\"carlot\" + -0.147*\"alves\" + -0.143*\"albert\" + -0.135*\"jorg\" + -0.115*\"poet\"'),\n",
       " (3,\n",
       "  '0.789*\"henriquet\" + 0.311*\"juliã\" + 0.151*\"renan\" + 0.105*\"elis\" + 0.090*\"fernandinh\" + 0.082*\"pimentel\" + 0.079*\"veig\" + 0.070*\"jorg\" + 0.062*\"crític\" + -0.058*\"exci\"'),\n",
       " (4,\n",
       "  '-0.611*\"cecíl\" + 0.381*\"luís\" + 0.165*\"alves\" + -0.150*\"carlot\" + -0.145*\"venânci\" + 0.124*\"camil\" + -0.113*\"magalhã\" + -0.112*\"tibúrci\" + -0.106*\"mendonc\" + -0.104*\"juvênci\"')]"
      ]
     },
     "execution_count": 155,
     "metadata": {},
     "output_type": "execute_result"
    }
   ],
   "source": [
    "mod_lsi.print_topics(5)"
   ]
  },
  {
   "cell_type": "code",
   "execution_count": null,
   "metadata": {},
   "outputs": [],
   "source": []
  },
  {
   "cell_type": "code",
   "execution_count": null,
   "metadata": {},
   "outputs": [],
   "source": []
  },
  {
   "cell_type": "code",
   "execution_count": null,
   "metadata": {},
   "outputs": [],
   "source": []
  }
 ],
 "metadata": {
  "kernelspec": {
   "display_name": "Python 3",
   "language": "python",
   "name": "python3"
  },
  "language_info": {
   "codemirror_mode": {
    "name": "ipython",
    "version": 3
   },
   "file_extension": ".py",
   "mimetype": "text/x-python",
   "name": "python",
   "nbconvert_exporter": "python",
   "pygments_lexer": "ipython3",
   "version": "3.7.4"
  }
 },
 "nbformat": 4,
 "nbformat_minor": 2
}
